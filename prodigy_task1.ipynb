{
 "cells": [
  {
   "cell_type": "code",
   "execution_count": 1,
   "id": "63ec5b22",
   "metadata": {},
   "outputs": [],
   "source": [
    "import numpy as np \n",
    "import pandas as pd\n",
    "import matplotlib.pyplot as plt\n",
    "import math"
   ]
  },
  {
   "cell_type": "code",
   "execution_count": 2,
   "id": "c3f73c8b",
   "metadata": {},
   "outputs": [],
   "source": [
    "data=pd.read_csv(r\"C:\\Users\\vyshn\\Downloads\\train.csv\")"
   ]
  },
  {
   "cell_type": "code",
   "execution_count": 3,
   "id": "cdcc1361",
   "metadata": {},
   "outputs": [
    {
     "data": {
      "text/plain": [
       "Id                 0\n",
       "MSSubClass         0\n",
       "MSZoning           0\n",
       "LotFrontage      259\n",
       "LotArea            0\n",
       "                ... \n",
       "MoSold             0\n",
       "YrSold             0\n",
       "SaleType           0\n",
       "SaleCondition      0\n",
       "SalePrice          0\n",
       "Length: 81, dtype: int64"
      ]
     },
     "execution_count": 3,
     "metadata": {},
     "output_type": "execute_result"
    }
   ],
   "source": [
    "data.isnull().sum()"
   ]
  },
  {
   "cell_type": "code",
   "execution_count": 4,
   "id": "103bf157",
   "metadata": {},
   "outputs": [
    {
     "data": {
      "text/plain": [
       "0       False\n",
       "1       False\n",
       "2       False\n",
       "3       False\n",
       "4       False\n",
       "        ...  \n",
       "1455    False\n",
       "1456    False\n",
       "1457    False\n",
       "1458    False\n",
       "1459    False\n",
       "Name: LotFrontage, Length: 1460, dtype: bool"
      ]
     },
     "execution_count": 4,
     "metadata": {},
     "output_type": "execute_result"
    }
   ],
   "source": [
    "data[\"LotFrontage\"].isnull()"
   ]
  },
  {
   "cell_type": "code",
   "execution_count": 5,
   "id": "2bd58a7f",
   "metadata": {},
   "outputs": [],
   "source": [
    "data[\"LotFrontage\"].fillna(data[\"LotFrontage\"].mean(), inplace=True)"
   ]
  },
  {
   "cell_type": "code",
   "execution_count": 6,
   "id": "31b4469d",
   "metadata": {},
   "outputs": [
    {
     "data": {
      "text/plain": [
       "Id               0\n",
       "MSSubClass       0\n",
       "MSZoning         0\n",
       "LotFrontage      0\n",
       "LotArea          0\n",
       "                ..\n",
       "MoSold           0\n",
       "YrSold           0\n",
       "SaleType         0\n",
       "SaleCondition    0\n",
       "SalePrice        0\n",
       "Length: 81, dtype: int64"
      ]
     },
     "execution_count": 6,
     "metadata": {},
     "output_type": "execute_result"
    }
   ],
   "source": [
    "data.isnull().sum()"
   ]
  },
  {
   "cell_type": "code",
   "execution_count": 7,
   "id": "ec3a7772",
   "metadata": {},
   "outputs": [
    {
     "data": {
      "text/plain": [
       "Index(['Id', 'MSSubClass', 'MSZoning', 'LotFrontage', 'LotArea', 'Street',\n",
       "       'Alley', 'LotShape', 'LandContour', 'Utilities', 'LotConfig',\n",
       "       'LandSlope', 'Neighborhood', 'Condition1', 'Condition2', 'BldgType',\n",
       "       'HouseStyle', 'OverallQual', 'OverallCond', 'YearBuilt', 'YearRemodAdd',\n",
       "       'RoofStyle', 'RoofMatl', 'Exterior1st', 'Exterior2nd', 'MasVnrType',\n",
       "       'MasVnrArea', 'ExterQual', 'ExterCond', 'Foundation', 'BsmtQual',\n",
       "       'BsmtCond', 'BsmtExposure', 'BsmtFinType1', 'BsmtFinSF1',\n",
       "       'BsmtFinType2', 'BsmtFinSF2', 'BsmtUnfSF', 'TotalBsmtSF', 'Heating',\n",
       "       'HeatingQC', 'CentralAir', 'Electrical', '1stFlrSF', '2ndFlrSF',\n",
       "       'LowQualFinSF', 'GrLivArea', 'BsmtFullBath', 'BsmtHalfBath', 'FullBath',\n",
       "       'HalfBath', 'BedroomAbvGr', 'KitchenAbvGr', 'KitchenQual',\n",
       "       'TotRmsAbvGrd', 'Functional', 'Fireplaces', 'FireplaceQu', 'GarageType',\n",
       "       'GarageYrBlt', 'GarageFinish', 'GarageCars', 'GarageArea', 'GarageQual',\n",
       "       'GarageCond', 'PavedDrive', 'WoodDeckSF', 'OpenPorchSF',\n",
       "       'EnclosedPorch', '3SsnPorch', 'ScreenPorch', 'PoolArea', 'PoolQC',\n",
       "       'Fence', 'MiscFeature', 'MiscVal', 'MoSold', 'YrSold', 'SaleType',\n",
       "       'SaleCondition', 'SalePrice'],\n",
       "      dtype='object')"
      ]
     },
     "execution_count": 7,
     "metadata": {},
     "output_type": "execute_result"
    }
   ],
   "source": [
    "data.columns"
   ]
  },
  {
   "cell_type": "code",
   "execution_count": 8,
   "id": "9948486b",
   "metadata": {},
   "outputs": [],
   "source": [
    "try:\n",
    "    data.drop(data[['MSSubClass', 'MSZoning', 'LotFrontage','Street', 'Alley', 'LotShape', 'LandContour', 'Utilities', 'LotConfig',\n",
    "             'LandSlope', 'Neighborhood', 'Condition1', 'Condition2', 'BldgType', 'HouseStyle', 'OverallQual', 'OverallCond', 'YearBuilt', 'YearRemodAdd', 'RoofStyle', 'RoofMatl', 'Exterior1st', 'Exterior2nd', 'MasVnrType', 'MasVnrArea', 'ExterQual', 'ExterCond', 'Foundation', 'BsmtQual','BsmtCond', 'BsmtExposure', 'BsmtFinType1', 'BsmtFinSF1','BsmtFinType2','BsmtUnfSF', 'TotalBsmtSF', 'Heating','HeatingQC', 'CentralAir', 'Electrical', '1stFlrSF', '2ndFlrSF','LowQualFinSF', 'GrLivArea','KitchenAbvGr', 'KitchenQual','TotRmsAbvGrd', 'Functional', 'Fireplaces', 'FireplaceQu','GarageType',\n",
    "       'GarageYrBlt', 'GarageFinish', 'GarageCars', 'GarageArea', 'GarageQual','GarageCond', 'PavedDrive', 'WoodDeckSF', 'OpenPorchSF','EnclosedPorch', '3SsnPorch', 'ScreenPorch', 'PoolArea', 'PoolQC','Fence', 'MiscFeature', 'MiscVal', 'MoSold', 'YrSold', 'SaleType','SaleCondition']],\n",
    "              inplace=True, axis=1)\n",
    "except KeyError as e:\n",
    "    print(\"Error:\", e)  # Handle the error appropriately, e.g., log or inform the user\n",
    "    # You could also provide alternative actions here, such as dropping only the\n",
    "    # existing columns or continuing with the remaining columns.\n"
   ]
  },
  {
   "cell_type": "code",
   "execution_count": 9,
   "id": "4283e28b",
   "metadata": {},
   "outputs": [
    {
     "data": {
      "text/html": [
       "<div>\n",
       "<style scoped>\n",
       "    .dataframe tbody tr th:only-of-type {\n",
       "        vertical-align: middle;\n",
       "    }\n",
       "\n",
       "    .dataframe tbody tr th {\n",
       "        vertical-align: top;\n",
       "    }\n",
       "\n",
       "    .dataframe thead th {\n",
       "        text-align: right;\n",
       "    }\n",
       "</style>\n",
       "<table border=\"1\" class=\"dataframe\">\n",
       "  <thead>\n",
       "    <tr style=\"text-align: right;\">\n",
       "      <th></th>\n",
       "      <th>Id</th>\n",
       "      <th>LotArea</th>\n",
       "      <th>BsmtFinSF2</th>\n",
       "      <th>BsmtFullBath</th>\n",
       "      <th>BsmtHalfBath</th>\n",
       "      <th>FullBath</th>\n",
       "      <th>HalfBath</th>\n",
       "      <th>BedroomAbvGr</th>\n",
       "      <th>SalePrice</th>\n",
       "    </tr>\n",
       "  </thead>\n",
       "  <tbody>\n",
       "    <tr>\n",
       "      <th>0</th>\n",
       "      <td>1</td>\n",
       "      <td>8450</td>\n",
       "      <td>0</td>\n",
       "      <td>1</td>\n",
       "      <td>0</td>\n",
       "      <td>2</td>\n",
       "      <td>1</td>\n",
       "      <td>3</td>\n",
       "      <td>208500</td>\n",
       "    </tr>\n",
       "    <tr>\n",
       "      <th>1</th>\n",
       "      <td>2</td>\n",
       "      <td>9600</td>\n",
       "      <td>0</td>\n",
       "      <td>0</td>\n",
       "      <td>1</td>\n",
       "      <td>2</td>\n",
       "      <td>0</td>\n",
       "      <td>3</td>\n",
       "      <td>181500</td>\n",
       "    </tr>\n",
       "    <tr>\n",
       "      <th>2</th>\n",
       "      <td>3</td>\n",
       "      <td>11250</td>\n",
       "      <td>0</td>\n",
       "      <td>1</td>\n",
       "      <td>0</td>\n",
       "      <td>2</td>\n",
       "      <td>1</td>\n",
       "      <td>3</td>\n",
       "      <td>223500</td>\n",
       "    </tr>\n",
       "    <tr>\n",
       "      <th>3</th>\n",
       "      <td>4</td>\n",
       "      <td>9550</td>\n",
       "      <td>0</td>\n",
       "      <td>1</td>\n",
       "      <td>0</td>\n",
       "      <td>1</td>\n",
       "      <td>0</td>\n",
       "      <td>3</td>\n",
       "      <td>140000</td>\n",
       "    </tr>\n",
       "    <tr>\n",
       "      <th>4</th>\n",
       "      <td>5</td>\n",
       "      <td>14260</td>\n",
       "      <td>0</td>\n",
       "      <td>1</td>\n",
       "      <td>0</td>\n",
       "      <td>2</td>\n",
       "      <td>1</td>\n",
       "      <td>4</td>\n",
       "      <td>250000</td>\n",
       "    </tr>\n",
       "    <tr>\n",
       "      <th>...</th>\n",
       "      <td>...</td>\n",
       "      <td>...</td>\n",
       "      <td>...</td>\n",
       "      <td>...</td>\n",
       "      <td>...</td>\n",
       "      <td>...</td>\n",
       "      <td>...</td>\n",
       "      <td>...</td>\n",
       "      <td>...</td>\n",
       "    </tr>\n",
       "    <tr>\n",
       "      <th>1455</th>\n",
       "      <td>1456</td>\n",
       "      <td>7917</td>\n",
       "      <td>0</td>\n",
       "      <td>0</td>\n",
       "      <td>0</td>\n",
       "      <td>2</td>\n",
       "      <td>1</td>\n",
       "      <td>3</td>\n",
       "      <td>175000</td>\n",
       "    </tr>\n",
       "    <tr>\n",
       "      <th>1456</th>\n",
       "      <td>1457</td>\n",
       "      <td>13175</td>\n",
       "      <td>163</td>\n",
       "      <td>1</td>\n",
       "      <td>0</td>\n",
       "      <td>2</td>\n",
       "      <td>0</td>\n",
       "      <td>3</td>\n",
       "      <td>210000</td>\n",
       "    </tr>\n",
       "    <tr>\n",
       "      <th>1457</th>\n",
       "      <td>1458</td>\n",
       "      <td>9042</td>\n",
       "      <td>0</td>\n",
       "      <td>0</td>\n",
       "      <td>0</td>\n",
       "      <td>2</td>\n",
       "      <td>0</td>\n",
       "      <td>4</td>\n",
       "      <td>266500</td>\n",
       "    </tr>\n",
       "    <tr>\n",
       "      <th>1458</th>\n",
       "      <td>1459</td>\n",
       "      <td>9717</td>\n",
       "      <td>1029</td>\n",
       "      <td>1</td>\n",
       "      <td>0</td>\n",
       "      <td>1</td>\n",
       "      <td>0</td>\n",
       "      <td>2</td>\n",
       "      <td>142125</td>\n",
       "    </tr>\n",
       "    <tr>\n",
       "      <th>1459</th>\n",
       "      <td>1460</td>\n",
       "      <td>9937</td>\n",
       "      <td>290</td>\n",
       "      <td>1</td>\n",
       "      <td>0</td>\n",
       "      <td>1</td>\n",
       "      <td>1</td>\n",
       "      <td>3</td>\n",
       "      <td>147500</td>\n",
       "    </tr>\n",
       "  </tbody>\n",
       "</table>\n",
       "<p>1460 rows × 9 columns</p>\n",
       "</div>"
      ],
      "text/plain": [
       "        Id  LotArea  BsmtFinSF2  BsmtFullBath  BsmtHalfBath  FullBath  \\\n",
       "0        1     8450           0             1             0         2   \n",
       "1        2     9600           0             0             1         2   \n",
       "2        3    11250           0             1             0         2   \n",
       "3        4     9550           0             1             0         1   \n",
       "4        5    14260           0             1             0         2   \n",
       "...    ...      ...         ...           ...           ...       ...   \n",
       "1455  1456     7917           0             0             0         2   \n",
       "1456  1457    13175         163             1             0         2   \n",
       "1457  1458     9042           0             0             0         2   \n",
       "1458  1459     9717        1029             1             0         1   \n",
       "1459  1460     9937         290             1             0         1   \n",
       "\n",
       "      HalfBath  BedroomAbvGr  SalePrice  \n",
       "0            1             3     208500  \n",
       "1            0             3     181500  \n",
       "2            1             3     223500  \n",
       "3            0             3     140000  \n",
       "4            1             4     250000  \n",
       "...        ...           ...        ...  \n",
       "1455         1             3     175000  \n",
       "1456         0             3     210000  \n",
       "1457         0             4     266500  \n",
       "1458         0             2     142125  \n",
       "1459         1             3     147500  \n",
       "\n",
       "[1460 rows x 9 columns]"
      ]
     },
     "execution_count": 9,
     "metadata": {},
     "output_type": "execute_result"
    }
   ],
   "source": [
    "data"
   ]
  },
  {
   "cell_type": "code",
   "execution_count": 10,
   "id": "5ce157a9",
   "metadata": {},
   "outputs": [],
   "source": [
    "x=data.iloc[:,1:8]\n",
    "y=data.iloc[:,-1]"
   ]
  },
  {
   "cell_type": "code",
   "execution_count": 11,
   "id": "00636958",
   "metadata": {},
   "outputs": [
    {
     "data": {
      "text/plain": [
       "LotArea         0\n",
       "BsmtFinSF2      0\n",
       "BsmtFullBath    0\n",
       "BsmtHalfBath    0\n",
       "FullBath        0\n",
       "HalfBath        0\n",
       "BedroomAbvGr    0\n",
       "dtype: int64"
      ]
     },
     "execution_count": 11,
     "metadata": {},
     "output_type": "execute_result"
    }
   ],
   "source": [
    "x.isnull().sum()"
   ]
  },
  {
   "cell_type": "code",
   "execution_count": 12,
   "id": "4a80a110",
   "metadata": {},
   "outputs": [
    {
     "data": {
      "text/plain": [
       "0"
      ]
     },
     "execution_count": 12,
     "metadata": {},
     "output_type": "execute_result"
    }
   ],
   "source": [
    "y.isnull().sum()"
   ]
  },
  {
   "cell_type": "code",
   "execution_count": 13,
   "id": "d503f3e2",
   "metadata": {},
   "outputs": [],
   "source": [
    "from sklearn.model_selection import train_test_split"
   ]
  },
  {
   "cell_type": "code",
   "execution_count": 14,
   "id": "8e8c07d8",
   "metadata": {},
   "outputs": [],
   "source": [
    "x_train,x_test,y_train,y_test=train_test_split(x,y,test_size=0.3,random_state=0)"
   ]
  },
  {
   "cell_type": "code",
   "execution_count": 15,
   "id": "dd2ef3c6",
   "metadata": {},
   "outputs": [],
   "source": [
    "from sklearn.linear_model import LinearRegression "
   ]
  },
  {
   "cell_type": "code",
   "execution_count": 16,
   "id": "35e2d7c0",
   "metadata": {},
   "outputs": [],
   "source": [
    "model=LinearRegression()"
   ]
  },
  {
   "cell_type": "code",
   "execution_count": 17,
   "id": "6dcc9b3c",
   "metadata": {},
   "outputs": [
    {
     "data": {
      "text/html": [
       "<style>#sk-container-id-1 {color: black;}#sk-container-id-1 pre{padding: 0;}#sk-container-id-1 div.sk-toggleable {background-color: white;}#sk-container-id-1 label.sk-toggleable__label {cursor: pointer;display: block;width: 100%;margin-bottom: 0;padding: 0.3em;box-sizing: border-box;text-align: center;}#sk-container-id-1 label.sk-toggleable__label-arrow:before {content: \"▸\";float: left;margin-right: 0.25em;color: #696969;}#sk-container-id-1 label.sk-toggleable__label-arrow:hover:before {color: black;}#sk-container-id-1 div.sk-estimator:hover label.sk-toggleable__label-arrow:before {color: black;}#sk-container-id-1 div.sk-toggleable__content {max-height: 0;max-width: 0;overflow: hidden;text-align: left;background-color: #f0f8ff;}#sk-container-id-1 div.sk-toggleable__content pre {margin: 0.2em;color: black;border-radius: 0.25em;background-color: #f0f8ff;}#sk-container-id-1 input.sk-toggleable__control:checked~div.sk-toggleable__content {max-height: 200px;max-width: 100%;overflow: auto;}#sk-container-id-1 input.sk-toggleable__control:checked~label.sk-toggleable__label-arrow:before {content: \"▾\";}#sk-container-id-1 div.sk-estimator input.sk-toggleable__control:checked~label.sk-toggleable__label {background-color: #d4ebff;}#sk-container-id-1 div.sk-label input.sk-toggleable__control:checked~label.sk-toggleable__label {background-color: #d4ebff;}#sk-container-id-1 input.sk-hidden--visually {border: 0;clip: rect(1px 1px 1px 1px);clip: rect(1px, 1px, 1px, 1px);height: 1px;margin: -1px;overflow: hidden;padding: 0;position: absolute;width: 1px;}#sk-container-id-1 div.sk-estimator {font-family: monospace;background-color: #f0f8ff;border: 1px dotted black;border-radius: 0.25em;box-sizing: border-box;margin-bottom: 0.5em;}#sk-container-id-1 div.sk-estimator:hover {background-color: #d4ebff;}#sk-container-id-1 div.sk-parallel-item::after {content: \"\";width: 100%;border-bottom: 1px solid gray;flex-grow: 1;}#sk-container-id-1 div.sk-label:hover label.sk-toggleable__label {background-color: #d4ebff;}#sk-container-id-1 div.sk-serial::before {content: \"\";position: absolute;border-left: 1px solid gray;box-sizing: border-box;top: 0;bottom: 0;left: 50%;z-index: 0;}#sk-container-id-1 div.sk-serial {display: flex;flex-direction: column;align-items: center;background-color: white;padding-right: 0.2em;padding-left: 0.2em;position: relative;}#sk-container-id-1 div.sk-item {position: relative;z-index: 1;}#sk-container-id-1 div.sk-parallel {display: flex;align-items: stretch;justify-content: center;background-color: white;position: relative;}#sk-container-id-1 div.sk-item::before, #sk-container-id-1 div.sk-parallel-item::before {content: \"\";position: absolute;border-left: 1px solid gray;box-sizing: border-box;top: 0;bottom: 0;left: 50%;z-index: -1;}#sk-container-id-1 div.sk-parallel-item {display: flex;flex-direction: column;z-index: 1;position: relative;background-color: white;}#sk-container-id-1 div.sk-parallel-item:first-child::after {align-self: flex-end;width: 50%;}#sk-container-id-1 div.sk-parallel-item:last-child::after {align-self: flex-start;width: 50%;}#sk-container-id-1 div.sk-parallel-item:only-child::after {width: 0;}#sk-container-id-1 div.sk-dashed-wrapped {border: 1px dashed gray;margin: 0 0.4em 0.5em 0.4em;box-sizing: border-box;padding-bottom: 0.4em;background-color: white;}#sk-container-id-1 div.sk-label label {font-family: monospace;font-weight: bold;display: inline-block;line-height: 1.2em;}#sk-container-id-1 div.sk-label-container {text-align: center;}#sk-container-id-1 div.sk-container {/* jupyter's `normalize.less` sets `[hidden] { display: none; }` but bootstrap.min.css set `[hidden] { display: none !important; }` so we also need the `!important` here to be able to override the default hidden behavior on the sphinx rendered scikit-learn.org. See: https://github.com/scikit-learn/scikit-learn/issues/21755 */display: inline-block !important;position: relative;}#sk-container-id-1 div.sk-text-repr-fallback {display: none;}</style><div id=\"sk-container-id-1\" class=\"sk-top-container\"><div class=\"sk-text-repr-fallback\"><pre>LinearRegression()</pre><b>In a Jupyter environment, please rerun this cell to show the HTML representation or trust the notebook. <br />On GitHub, the HTML representation is unable to render, please try loading this page with nbviewer.org.</b></div><div class=\"sk-container\" hidden><div class=\"sk-item\"><div class=\"sk-estimator sk-toggleable\"><input class=\"sk-toggleable__control sk-hidden--visually\" id=\"sk-estimator-id-1\" type=\"checkbox\" checked><label for=\"sk-estimator-id-1\" class=\"sk-toggleable__label sk-toggleable__label-arrow\">LinearRegression</label><div class=\"sk-toggleable__content\"><pre>LinearRegression()</pre></div></div></div></div></div>"
      ],
      "text/plain": [
       "LinearRegression()"
      ]
     },
     "execution_count": 17,
     "metadata": {},
     "output_type": "execute_result"
    }
   ],
   "source": [
    "model.fit(x_train,y_train)"
   ]
  },
  {
   "cell_type": "code",
   "execution_count": 18,
   "id": "e7a4c4c4",
   "metadata": {},
   "outputs": [],
   "source": [
    "y_pred=model.predict(x_test)"
   ]
  },
  {
   "cell_type": "code",
   "execution_count": 19,
   "id": "1a506cc2",
   "metadata": {},
   "outputs": [
    {
     "data": {
      "text/plain": [
       "array([322113.89216001, 138416.70780847, 136994.66188376, 214724.98234303,\n",
       "       129850.81427856, 137477.78115043, 226367.68421253, 138608.74670331,\n",
       "       337735.34239352, 218061.14220579, 180999.50767563, 180498.90790121,\n",
       "       220230.04168509, 137979.33106212, 110380.66441216, 138651.7296991 ,\n",
       "       256316.48974472, 138256.90487668, 138063.17058505, 163008.13585276,\n",
       "       176933.52011081, 143110.14920864, 136695.60507115, 217075.03242224,\n",
       "       213666.13395561, 144383.71289411, 209886.82777635, 135461.92597009,\n",
       "       224010.69966653, 106571.20309517, 217244.59377041, 255276.784379  ,\n",
       "       142222.14741127, 256591.42651522, 221524.58852711, 252287.71165624,\n",
       "       221463.72550878, 133448.66108209, 213971.22586385, 258793.11817631,\n",
       "       218608.53406607, 100361.44126702, 181828.39563639, 221708.75130789,\n",
       "       257641.89983065, 186554.72710029, 137037.0332824 , 134702.09377098,\n",
       "       216070.87753832, 109705.87289747, 260506.41861787, 176926.55322908,\n",
       "       206249.44055705, 105334.08531823, 246793.81979354, 101749.31033979,\n",
       "       187424.38433149, 219872.30646719, 139149.44826313, 102027.58199843,\n",
       "       139130.30524144, 140747.89057453, 127168.18526622, 145485.78844366,\n",
       "       217835.87873154, 168500.59113372, 112338.03838031, 223097.90562254,\n",
       "       177754.52133225, 222182.62989782, 253455.80444041, 142078.57474857,\n",
       "       108636.25656035, 222392.16206091, 102505.45969668, 184088.46863507,\n",
       "       140811.30183389, 107312.99518579, 262714.80057941, 195880.84261315,\n",
       "       141815.35820028, 136976.71530093, 136976.71530093, 121652.35797446,\n",
       "       268049.28893521, 218224.72135968, 104280.97495875, 184064.7840243 ,\n",
       "       183806.10906509, 103149.14380112, 217822.80670714, 266622.61404893,\n",
       "       222944.76144899, 260221.66617018, 180631.00450803, 182280.86127531,\n",
       "       218164.89941689, 192798.29933925, 101541.12997887, 178804.99464768,\n",
       "       222047.34350409, 254988.23086333, 102665.78250336, 137352.48590468,\n",
       "       106619.0606494 , 221968.22317628, 190702.83854791, 106912.18816908,\n",
       "       219601.91128577, 136074.68920664, 101546.15990064, 138104.95714198,\n",
       "       220465.49597335, 137933.8663856 , 248598.2626857 , 246890.94443841,\n",
       "       187457.64045312, 173589.68526015, 218308.31671627, 218121.9164211 ,\n",
       "       137574.93472885, 180250.53695188, 140500.22773138, 214599.35626317,\n",
       "       183619.46460358, 253996.83896959, 224642.50818543, 221328.52791807,\n",
       "       178928.68376759, 203697.1923112 , 257936.62331885, 186175.302166  ,\n",
       "       165937.75869296, 186349.73807261, 103016.33908812, 209733.90875683,\n",
       "       183183.96086006, 181449.12451909, 103604.03473268, 215912.09385436,\n",
       "       127341.42473398, 137597.91123345, 225133.89038472, 180524.62845158,\n",
       "       187125.69812036, 216548.59932567, 182017.43297561, 176589.15747174,\n",
       "       221876.49691405, 227492.33673702, 183512.98154541, 184306.67642459,\n",
       "       190203.71179361, 322821.69964055,  97927.88463424, 330040.09086161,\n",
       "       103514.30181849, 105507.32478598, 101878.52573622, 218271.47127808,\n",
       "       107308.94750015, 143150.33979706, 217075.03242224, 140414.08413376,\n",
       "       185645.03558652, 181508.94646188, 205521.76156636, 219567.21455895,\n",
       "       222522.5738962 , 217000.85321318, 145251.72281771, 217404.0531076 ,\n",
       "       223751.56076749, 228865.06028652, 122447.94671216, 123153.88873854,\n",
       "       104800.47358852, 213978.43290423, 184313.64330631, 138832.48076935,\n",
       "       188563.60587367, 258447.13559556, 101689.73256334, 221847.53821517,\n",
       "       115791.20508461, 194986.69495777, 134676.29635051, 221574.99432238,\n",
       "       131164.63470059, 143106.55989208, 138259.29775439, 146974.40254667,\n",
       "       183508.19578999, 107009.0997164 , 100725.15867919, 138097.77850885,\n",
       "       139567.4937565 , 123132.35283913, 134304.91197252, 171512.91157275,\n",
       "       100871.1242196 , 218302.73405165, 103514.81436695, 181425.19574197,\n",
       "       170613.68590792, 299041.62058718, 139130.30524144, 257350.21291617,\n",
       "       189023.77891541, 143069.2261212 , 181001.62397208, 219091.18725765,\n",
       "       186160.94489973, 140535.16862454, 195823.06407065, 222684.03090546,\n",
       "       185576.83857174, 238199.59091265, 184614.90173164, 140061.62300396,\n",
       "       225002.54747802, 149424.70932343, 102778.49192215, 103264.00193128,\n",
       "       179543.44158808, 256841.72640243, 220746.90327081, 225034.03998079,\n",
       "       100192.74338834, 183782.18028798, 186160.94489973, 135257.09730764,\n",
       "       104388.65445577, 139236.87710263, 243198.07840065,  94405.3244763 ,\n",
       "       249537.31182421, 102886.17141918, 183165.0620047 , 229172.13689062,\n",
       "       136627.68812438, 236884.47055838, 224111.28933343, 257589.50068733,\n",
       "       201590.26348607, 136862.19014013, 144756.44907428, 217308.33799913,\n",
       "       180701.5619856 , 218903.10219094, 125998.482596  , 220189.36276399,\n",
       "       101282.94335235, 303236.81286193, 218452.04474229, 182226.80977538,\n",
       "       101067.5843583 , 203652.21596736, 383057.64269159, 357342.04958278,\n",
       "       247294.14433283, 134870.73874831, 181276.59315751, 184260.75583031,\n",
       "       230425.05253902, 259720.60245593, 256112.85097289, 108591.03605016,\n",
       "       141599.84384291, 183871.91320216, 103311.85948552, 140903.51642881,\n",
       "       139541.88020785, 191730.12360732,  89231.67869731, 251664.49130687,\n",
       "       181257.45013581, 143544.05698365, 217582.07833078, 141049.48196923,\n",
       "       140326.74409728, 228139.61015803, 100799.33788825, 177693.47053568,\n",
       "       184028.89085862, 179517.82803942, 148616.04856133, 223567.27676876,\n",
       "       226148.55801173, 167241.00999504, 102802.42069927, 100440.4062315 ,\n",
       "       185330.37216743, 104321.89804619, 149185.42155226, 223985.57445055,\n",
       "       187735.21426767, 221687.45957482, 181697.9838011 , 247206.80429636,\n",
       "       135110.51485216, 117769.91388726, 215646.48442837, 185003.98852613,\n",
       "       132454.02106253, 109957.12505719, 141886.76611409, 184899.31559239,\n",
       "       218143.45232051, 220015.79032688, 105039.76135969, 215542.63841425,\n",
       "       183260.77711317, 130411.06079424, 141054.51189099, 143095.79194237,\n",
       "       254179.40578185, 107046.18932093, 179614.03148057, 139326.61001682,\n",
       "        93909.99878999, 219490.7978355 , 106311.57586345, 253909.96287295,\n",
       "       175868.68952911, 252564.45749281, 104723.65733541, 230183.37189014,\n",
       "       146282.61672165, 138090.59987571, 100823.72561332, 218784.74354724,\n",
       "       138294.08328423, 184709.42040125, 189957.24538931, 179616.14777701,\n",
       "       172955.57266655, 253401.96469189, 131882.36745578, 137765.1611805 ,\n",
       "       226887.18284231, 218098.1430073 , 168631.39847521, 216867.80433384,\n",
       "       178076.33096955, 141413.1993814 , 135105.48493039, 100440.4062315 ,\n",
       "       103345.60393982, 141614.3564725 , 219082.65682234, 220430.79924653,\n",
       "       108569.25598442, 111622.56794452, 217571.70991074, 265348.6508338 ,\n",
       "       216822.36279436, 173230.75360339, 237162.48700403, 375738.87342037,\n",
       "       303019.06099017, 301332.08220343, 219002.40661598, 184489.27565178,\n",
       "       106926.54543535, 174636.3575076 , 220256.36333992,  93910.48577653,\n",
       "       228992.51569892, 173231.58158624, 223736.80397156, 134684.42725616,\n",
       "       175828.01060801, 167494.29408668, 108012.08259233, 101352.33680599,\n",
       "       219165.12230037, 236076.12052293, 100416.47745438, 218882.7627304 ,\n",
       "       162083.16432266, 103891.18005808, 130563.6476703 ,  99291.82492989,\n",
       "       137864.47293196, 103534.3971127 , 170058.2496649 , 217075.03242224,\n",
       "       184751.29576121, 222553.52594313, 102886.17141918, 143149.79492821,\n",
       "       218218.58380208, 144086.19914867, 133387.31993964, 216960.17429208,\n",
       "       143104.87512054, 217937.6648373 , 152044.91041772, 253001.15767519,\n",
       "       257658.89414097, 182341.66790555, 139183.03735412, 139626.11926044,\n",
       "       174088.60026303, 224288.3622841 , 146518.64814561, 213522.56129291,\n",
       "       220066.12956184, 182839.38646957, 178853.80447443, 105904.54248612,\n",
       "       222435.23385972, 126825.6397153 , 104364.72567866, 137866.1435505 ,\n",
       "       225038.44064369, 134450.16940675, 270850.58479912, 130673.96421138,\n",
       "       216214.54871855, 301720.68066524, 102107.04555769, 210081.84730986,\n",
       "       137847.72278798, 105207.26279951, 224447.39984891, 108909.04461948,\n",
       "       220313.792405  , 142001.75849546, 139728.52466936, 263064.43730659,\n",
       "       143351.34152484, 170070.7490398 , 103616.95139376, 261216.15102573,\n",
       "       219849.48532591, 264185.71226592])"
      ]
     },
     "execution_count": 19,
     "metadata": {},
     "output_type": "execute_result"
    }
   ],
   "source": [
    "y_pred"
   ]
  },
  {
   "cell_type": "code",
   "execution_count": 20,
   "id": "77e0db91",
   "metadata": {},
   "outputs": [],
   "source": [
    "from sklearn.metrics import  r2_score, mean_absolute_error, mean_squared_error"
   ]
  },
  {
   "cell_type": "code",
   "execution_count": 21,
   "id": "0f23287d",
   "metadata": {},
   "outputs": [],
   "source": [
    "mse=mean_squared_error(y_test,y_pred)\n",
    "rmse = math.sqrt(mse)\n",
    "r=r2_score(y_test,y_pred)\n",
    "mme=mean_absolute_error(y_test,y_pred)"
   ]
  },
  {
   "cell_type": "code",
   "execution_count": 22,
   "id": "9b0aeba2",
   "metadata": {},
   "outputs": [
    {
     "name": "stdout",
     "output_type": "stream",
     "text": [
      "61610.9648843305 0.4408726204787018 41141.21527492214\n"
     ]
    }
   ],
   "source": [
    "print(rmse,r,mme)"
   ]
  },
  {
   "cell_type": "code",
   "execution_count": null,
   "id": "a10bf8c2",
   "metadata": {},
   "outputs": [],
   "source": []
  }
 ],
 "metadata": {
  "kernelspec": {
   "display_name": "Python 3 (ipykernel)",
   "language": "python",
   "name": "python3"
  },
  "language_info": {
   "codemirror_mode": {
    "name": "ipython",
    "version": 3
   },
   "file_extension": ".py",
   "mimetype": "text/x-python",
   "name": "python",
   "nbconvert_exporter": "python",
   "pygments_lexer": "ipython3",
   "version": "3.10.13"
  }
 },
 "nbformat": 4,
 "nbformat_minor": 5
}
